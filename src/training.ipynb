{
 "cells": [
  {
   "cell_type": "code",
   "execution_count": null,
   "metadata": {},
   "outputs": [],
   "source": [
    "import os\n",
    "import torch\n",
    "import torch_directml\n",
    "import torchvision\n",
    "import numpy as np\n",
    "from matplotlib import pyplot as plt\n",
    "from torchvision import transforms\n",
    "from torchvision.datasets import ImageFolder\n",
    "from torch.utils.data import DataLoader\n",
    "from tqdm.notebook import tqdm"
   ]
  },
  {
   "cell_type": "code",
   "execution_count": null,
   "metadata": {},
   "outputs": [],
   "source": [
    "# Define paths and parameters\n",
    "cars_model_checkpoint_path = 'best_cars_model_checkpoint.pth.tar'\n",
    "best_cars_model_path = 'best_cars_model.pth'\n",
    "train_cars_dataset_path = 'data/cars_train/train'\n",
    "test_cars_dataset_path = 'data/cars_train/test'\n",
    "mean = [0.4708, 0.4602, 0.4550]\n",
    "std = [0.2593, 0.2584, 0.2634]\n",
    "\n",
    "train_cars_transforms = transforms.Compose([\n",
    "  transforms.Resize((224, 224)),\n",
    "  transforms.RandomHorizontalFlip(),\n",
    "  transforms.RandomRotation(10),\n",
    "  transforms.ToTensor(),\n",
    "  transforms.Normalize(torch.Tensor(mean), torch.Tensor(std))\n",
    "])\n",
    "\n",
    "test_cars_transforms = transforms.Compose([\n",
    "  transforms.Resize((224, 224)),\n",
    "  transforms.ToTensor(),\n",
    "  transforms.Normalize(torch.Tensor(mean), torch.Tensor(std))\n",
    "])\n",
    "\n",
    "train_cars_dataset = ImageFolder(root=train_cars_dataset_path, transform=train_cars_transforms)\n",
    "test_cars_dataset = ImageFolder(root=test_cars_dataset_path, transform=test_cars_transforms)\n",
    "\n",
    "train_cars_loader = DataLoader(train_cars_dataset, batch_size=64, shuffle=True)\n",
    "test_cars_loader = DataLoader(test_cars_dataset, batch_size=64, shuffle=False)"
   ]
  },
  {
   "cell_type": "code",
   "execution_count": null,
   "metadata": {},
   "outputs": [],
   "source": [
    "def show_transformed_images(dataset: ImageFolder, num_images: int = 6):\n",
    "  loader = DataLoader(dataset, batch_size=num_images, shuffle=True)\n",
    "  batch = next(iter(loader))\n",
    "  images, labels = batch\n",
    "\n",
    "  print(f\"Labels: {labels}\")\n",
    "  grid = torchvision.utils.make_grid(images, nrow=3)\n",
    "  plt.figure(figsize=(11,11))\n",
    "  plt.imshow(np.transpose(grid, (1, 2, 0)))\n",
    "  plt.show()\n",
    "\n",
    "show_transformed_images(train_cars_dataset)"
   ]
  },
  {
   "cell_type": "code",
   "execution_count": null,
   "metadata": {},
   "outputs": [],
   "source": [
    "def get_device():\n",
    "  \"\"\"\n",
    "  Returns the device to use for computations.\n",
    "  Prioritizes DirectML device if available, otherwise falls back to CPU.\n",
    "  \"\"\"\n",
    "  device = torch_directml.device(torch_directml.default_device()) if torch_directml.is_available() else torch.device(\"cpu\")\n",
    "  return device\n",
    "\n",
    "def save_checkpoint(model: torch.nn.Module, epoch: int, optimizer: torch.optim.Optimizer, best_acc: float):\n",
    "    saved_best_acc = 0\n",
    "    if os.path.isfile(cars_model_checkpoint_path):\n",
    "        checkpoint = torch.load(cars_model_checkpoint_path)\n",
    "        saved_best_acc = float(checkpoint['best_acc'])\n",
    "\n",
    "    if best_acc >= saved_best_acc:\n",
    "        state = {\n",
    "            'model': model.state_dict(),\n",
    "            'epoch': epoch,\n",
    "            'optimizer': optimizer.state_dict(),\n",
    "            'best_acc': best_acc\n",
    "        }\n",
    "        torch.save(state, cars_model_checkpoint_path)\n",
    "\n",
    "def train_cars_nn(model: torch.nn.Module, train_loader: DataLoader, test_loader: DataLoader, criterion: torch.nn.CrossEntropyLoss, optimizer: torch.optim.Optimizer, n_epochs: int):\n",
    "    device = get_device()\n",
    "    best_acc = 0\n",
    "\n",
    "    for epoch in range(n_epochs):\n",
    "        print(f\"Epoch {epoch+1}/{n_epochs}\")\n",
    "        model.train()\n",
    "        running_loss = 0.0\n",
    "        running_correct = 0.0\n",
    "        total = 0\n",
    "\n",
    "        for images, labels in tqdm(train_loader, desc='Training loop'):\n",
    "            images, labels = images.to(device), labels.to(device)\n",
    "            total += labels.size(0)\n",
    "\n",
    "            optimizer.zero_grad()\n",
    "\n",
    "            outputs = model(images)\n",
    "            _, predicted = torch.max(outputs.data, 1)\n",
    "            loss = criterion(outputs, labels)\n",
    "\n",
    "            loss.backward()\n",
    "            optimizer.step()\n",
    "\n",
    "            running_loss += loss.item()\n",
    "            running_correct += (predicted == labels).sum().item()\n",
    "\n",
    "        epoch_loss = running_loss / len(train_loader)\n",
    "        epoch_acc = 100 * running_correct / total\n",
    "\n",
    "        print(f\"    Training: Predicted {running_correct} of {total} images correctly (Loss: {epoch_loss:.4f} - Acc: {epoch_acc:.2f}%)\")\n",
    "\n",
    "        eval_acc = evaluate_model(model, test_loader)\n",
    "\n",
    "        if eval_acc > best_acc:\n",
    "            best_acc = eval_acc\n",
    "            save_checkpoint(model, epoch + 1, optimizer, best_acc)\n",
    "\n",
    "    return model\n",
    "\n",
    "def evaluate_model(model: torch.nn.Module, test_loader: DataLoader):\n",
    "    model.eval()\n",
    "    device = get_device()\n",
    "    predicted_correctly = 0\n",
    "    total = 0\n",
    "\n",
    "    with torch.no_grad():\n",
    "        for images, labels in tqdm(test_loader, desc='Validation loop'):\n",
    "            images, labels = images.to(device), labels.to(device)\n",
    "            total += labels.size(0)\n",
    "\n",
    "            outputs = model(images)\n",
    "            _, predicted = torch.max(outputs.data, 1)\n",
    "            predicted_correctly += (predicted == labels).sum().item()\n",
    "\n",
    "    accuracy = 100 * predicted_correctly / total\n",
    "    print(f\"    Testing: Predicted {predicted_correctly} of {total} images correctly (Acc: {accuracy:.2f}%)\")\n",
    "\n",
    "    return accuracy"
   ]
  },
  {
   "cell_type": "code",
   "execution_count": null,
   "metadata": {},
   "outputs": [],
   "source": [
    "resnet18_model = torchvision.models.resnet18(weights=torchvision.models.ResNet18_Weights.IMAGENET1K_V1)\n",
    "n_features = resnet18_model.fc.in_features\n",
    "n_classes = len(train_cars_dataset.classes)\n",
    "resnet18_model.fc = torch.nn.Linear(n_features, n_classes)\n",
    "device = get_device()\n",
    "resnet18_model = resnet18_model.to(device)\n",
    "\n",
    "loss_fn = torch.nn.CrossEntropyLoss().to(device)\n",
    "optimizer = torch.optim.SGD(resnet18_model.parameters(), lr=0.01, momentum=0.9, weight_decay=0.003)\n",
    "\n",
    "train_cars_nn(resnet18_model, train_cars_loader, test_cars_loader, loss_fn, optimizer, n_epochs=100)"
   ]
  },
  {
   "cell_type": "code",
   "execution_count": 18,
   "metadata": {},
   "outputs": [
    {
     "data": {
      "text/plain": [
       "81.55111633372503"
      ]
     },
     "execution_count": 18,
     "metadata": {},
     "output_type": "execute_result"
    }
   ],
   "source": [
    "checkpoint = torch.load(cars_model_checkpoint_path)\n",
    "checkpoint['best_acc']"
   ]
  },
  {
   "cell_type": "code",
   "execution_count": 19,
   "metadata": {},
   "outputs": [],
   "source": [
    "resnet18_model = torchvision.models.resnet18()\n",
    "n_features = resnet18_model.fc.in_features\n",
    "n_classes = len(train_cars_dataset.classes)\n",
    "resnet18_model.fc = torch.nn.Linear(n_features, n_classes)\n",
    "resnet18_model.load_state_dict(checkpoint['model'])\n",
    "\n",
    "torch.save(resnet18_model, best_cars_model_path)"
   ]
  }
 ],
 "metadata": {
  "kernelspec": {
   "display_name": "directML",
   "language": "python",
   "name": "python3"
  },
  "language_info": {
   "codemirror_mode": {
    "name": "ipython",
    "version": 3
   },
   "file_extension": ".py",
   "mimetype": "text/x-python",
   "name": "python",
   "nbconvert_exporter": "python",
   "pygments_lexer": "ipython3",
   "version": "3.8.19"
  }
 },
 "nbformat": 4,
 "nbformat_minor": 2
}

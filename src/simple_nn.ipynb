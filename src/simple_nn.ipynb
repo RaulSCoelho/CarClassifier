{
 "cells": [
  {
   "cell_type": "code",
   "execution_count": 97,
   "metadata": {},
   "outputs": [],
   "source": [
    "import os\n",
    "import cv2\n",
    "import numpy as np\n",
    "import pandas as pd\n",
    "import matplotlib.pyplot as plt\n",
    "from tqdm.notebook import tqdm"
   ]
  },
  {
   "cell_type": "code",
   "execution_count": 98,
   "metadata": {},
   "outputs": [],
   "source": [
    "# Define paths\n",
    "train_cars_dataset_path = 'data/cars_train/train'\n",
    "test_cars_dataset_path = 'data/cars_train/test'\n",
    "\n",
    "classes = os.listdir(train_cars_dataset_path)\n",
    "\n",
    "# Initialize lists to store images and labels\n",
    "train_images = []\n",
    "train_labels = []\n",
    "test_images = []\n",
    "test_labels = []\n",
    "\n",
    "# Loop through each subfolder in the data folder\n",
    "for label_folder in os.listdir(train_cars_dataset_path):\n",
    "    train_label_path = os.path.join(train_cars_dataset_path, label_folder)\n",
    "    test_label_path = os.path.join(test_cars_dataset_path, label_folder)\n",
    "    if os.path.isdir(train_label_path) and os.path.isdir(test_label_path):\n",
    "        # Extract label from folder name\n",
    "        label = classes.index(label_folder)  # Assuming folder names are the labels\n",
    "        \n",
    "        # Loop through images in the current label folder\n",
    "        for image_file in os.listdir(train_label_path):\n",
    "            train_image_path = os.path.join(train_label_path, image_file)\n",
    "            if image_file.endswith(\".jpg\"):  # Assuming images are in JPG format\n",
    "                # Read image and resize to a fixed size if necessary\n",
    "                image = cv2.imread(train_image_path)\n",
    "                image = cv2.resize(image, (224, 224))\n",
    "                train_images.append(image)\n",
    "                train_labels.append(label)\n",
    "\n",
    "        for image_file in os.listdir(test_label_path):\n",
    "            test_image_path = os.path.join(test_label_path, image_file)\n",
    "            if image_file.endswith(\".jpg\"):  # Assuming images are in JPG format\n",
    "                # Read image and resize to a fixed size if necessary\n",
    "                image = cv2.imread(test_image_path)\n",
    "                image = cv2.resize(image, (224, 224))\n",
    "                test_images.append(image)\n",
    "                test_labels.append(label)"
   ]
  },
  {
   "cell_type": "code",
   "execution_count": 99,
   "metadata": {},
   "outputs": [],
   "source": [
    "# Convert lists to numpy arrays\n",
    "X_train = np.array(train_images)\n",
    "Y_train = np.array(train_labels)\n",
    "\n",
    "X_test = np.array(test_images)\n",
    "Y_test = np.array(test_labels)\n",
    "\n",
    "# Flatten the image data\n",
    "X_train = X_train.reshape(X_train.shape[0], -1).T\n",
    "X_test = X_test.reshape(X_test.shape[0], -1).T\n",
    "\n",
    "# Normalize pixel values to range [0, 1]\n",
    "X_train = X_train / 255.0\n",
    "X_test = X_test / 255.0\n",
    "\n",
    "num_classes = len(classes)\n",
    "pixels = len(X_train[:, 0])"
   ]
  },
  {
   "cell_type": "code",
   "execution_count": 100,
   "metadata": {},
   "outputs": [],
   "source": [
    "def init_params():\n",
    "    np.random.seed(1)\n",
    "    W1 = np.random.randn(num_classes, pixels) * 0.01\n",
    "    b1 = np.zeros((num_classes, 1))\n",
    "    W2 = np.random.randn(num_classes, num_classes) * 0.01\n",
    "    b2 = np.zeros((num_classes, 1))\n",
    "    return W1, b1, W2, b2\n",
    "\n",
    "def ReLU(Z):\n",
    "    return np.maximum(Z, 0)\n",
    "\n",
    "def softmax(Z):\n",
    "    exp_Z = np.exp(Z - np.max(Z)) # Numerical stability\n",
    "    return exp_Z / np.sum(exp_Z, axis=0, keepdims=True)\n",
    "    \n",
    "def forward_prop(W1, b1, W2, b2, X):\n",
    "    Z1 = np.dot(W1, X) + b1\n",
    "    A1 = ReLU(Z1)\n",
    "    Z2 = np.dot(W2, A1) + b2\n",
    "    A2 = softmax(Z2)\n",
    "    return Z1, A1, Z2, A2\n",
    "\n",
    "def ReLU_deriv(Z):\n",
    "    return Z > 0\n",
    "\n",
    "def one_hot(Y):\n",
    "    one_hot_Y = np.zeros((Y.size, Y.max() + 1))\n",
    "    one_hot_Y[np.arange(Y.size), Y] = 1\n",
    "    one_hot_Y = one_hot_Y.T\n",
    "    return one_hot_Y\n",
    "\n",
    "def backward_prop(Z1, A1, Z2, A2, W1, W2, X, Y):\n",
    "    m = Y.size\n",
    "    one_hot_Y = one_hot(Y)\n",
    "    dZ2 = A2 - one_hot_Y\n",
    "    dW2 = 1 / m * np.dot(dZ2, A1.T)\n",
    "    db2 = 1 / m * np.sum(dZ2, axis=1, keepdims=True)\n",
    "    dZ1 = np.dot(W2.T, dZ2) * ReLU_deriv(Z1)\n",
    "    dW1 = 1 / m * np.dot(dZ1, X.T)\n",
    "    db1 = 1 / m * np.sum(dZ1, axis=1, keepdims=True)\n",
    "    return dW1, db1, dW2, db2\n",
    "\n",
    "def update_params(W1, b1, W2, b2, dW1, db1, dW2, db2, alpha):\n",
    "    W1 -= alpha * dW1\n",
    "    b1 -= alpha * db1\n",
    "    W2 -= alpha * dW2\n",
    "    b2 -= alpha * db2\n",
    "    return W1, b1, W2, b2"
   ]
  },
  {
   "cell_type": "code",
   "execution_count": 101,
   "metadata": {},
   "outputs": [],
   "source": [
    "def get_predictions(A2):\n",
    "    return np.argmax(A2, 0)\n",
    "\n",
    "def get_accuracy(predictions, Y):\n",
    "    return np.mean(predictions == Y) * 100\n",
    "\n",
    "def gradient_descent(X, Y, alpha, iterations):\n",
    "    W1, b1, W2, b2 = init_params()\n",
    "    for i in range(iterations):\n",
    "        Z1, A1, Z2, A2 = forward_prop(W1, b1, W2, b2, X)\n",
    "        dW1, db1, dW2, db2 = backward_prop(Z1, A1, Z2, A2, W1, W2, X, Y)\n",
    "        W1, b1, W2, b2 = update_params(W1, b1, W2, b2, dW1, db1, dW2, db2, alpha)\n",
    "        if i % 10 == 0:\n",
    "            predictions = get_predictions(A2)\n",
    "            accuracy = get_accuracy(predictions, Y)\n",
    "            print(f\"Iteration: {i}, Accuracy: {accuracy:.2f}%\")\n",
    "    return W1, b1, W2, b2"
   ]
  },
  {
   "cell_type": "code",
   "execution_count": 102,
   "metadata": {},
   "outputs": [
    {
     "name": "stdout",
     "output_type": "stream",
     "text": [
      "Iteration: 0, Accuracy: 0.62%\n",
      "Iteration: 10, Accuracy: 0.57%\n",
      "Iteration: 20, Accuracy: 0.84%\n",
      "Iteration: 30, Accuracy: 0.84%\n",
      "Iteration: 40, Accuracy: 0.90%\n",
      "Iteration: 50, Accuracy: 0.92%\n",
      "Iteration: 60, Accuracy: 0.93%\n",
      "Iteration: 70, Accuracy: 0.90%\n",
      "Iteration: 80, Accuracy: 0.90%\n",
      "Iteration: 90, Accuracy: 0.95%\n"
     ]
    }
   ],
   "source": [
    "W1, b1, W2, b2 = gradient_descent(X_train, Y_train, alpha=0.01, iterations=100)"
   ]
  },
  {
   "cell_type": "code",
   "execution_count": 174,
   "metadata": {},
   "outputs": [],
   "source": [
    "def make_predictions(X, W1, b1, W2, b2):\n",
    "    _, _, _, A2 = forward_prop(W1, b1, W2, b2, X)\n",
    "    predictions = get_predictions(A2)\n",
    "    return predictions\n",
    "\n",
    "def test_prediction(index, W1, b1, W2, b2):\n",
    "    current_image = X_train[:, index, None]\n",
    "    prediction = make_predictions(X_train[:, index, None], W1, b1, W2, b2)\n",
    "    label = Y_train[index]\n",
    "    print(\"Prediction: \", prediction)\n",
    "    print(\"Label: \", label)\n",
    "    \n",
    "    current_image = current_image.reshape((224, 224, 3))\n",
    "    plt.gray()\n",
    "    plt.imshow(current_image, interpolation='nearest')\n",
    "    plt.show()"
   ]
  },
  {
   "cell_type": "code",
   "execution_count": 178,
   "metadata": {},
   "outputs": [
    {
     "name": "stdout",
     "output_type": "stream",
     "text": [
      "[120  22 120 ... 120 120 120]\n"
     ]
    },
    {
     "data": {
      "text/plain": [
       "0.9400705052878966"
      ]
     },
     "execution_count": 178,
     "metadata": {},
     "output_type": "execute_result"
    }
   ],
   "source": [
    "dev_predictions = make_predictions(X_test, W1, b1, W2, b2)\n",
    "print(dev_predictions)\n",
    "get_accuracy(dev_predictions, Y_test)"
   ]
  }
 ],
 "metadata": {
  "kernelspec": {
   "display_name": "directML",
   "language": "python",
   "name": "python3"
  },
  "language_info": {
   "codemirror_mode": {
    "name": "ipython",
    "version": 3
   },
   "file_extension": ".py",
   "mimetype": "text/x-python",
   "name": "python",
   "nbconvert_exporter": "python",
   "pygments_lexer": "ipython3",
   "version": "3.8.19"
  }
 },
 "nbformat": 4,
 "nbformat_minor": 2
}
